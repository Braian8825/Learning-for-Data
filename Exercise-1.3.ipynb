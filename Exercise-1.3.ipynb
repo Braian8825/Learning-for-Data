{
  "metadata": {
    "language_info": {
      "codemirror_mode": {
        "name": "python",
        "version": 3
      },
      "file_extension": ".py",
      "mimetype": "text/x-python",
      "name": "python",
      "nbconvert_exporter": "python",
      "pygments_lexer": "ipython3",
      "version": "3.8"
    },
    "kernelspec": {
      "name": "python",
      "display_name": "Python (Pyodide)",
      "language": "python"
    }
  },
  "nbformat_minor": 4,
  "nbformat": 4,
  "cells": [
    {
      "cell_type": "markdown",
      "source": "Exercise 1.3",
      "metadata": {}
    },
    {
      "cell_type": "markdown",
      "source": "The weight update rule $$w(t+1)=w(t)+y(t)x(t)$$ has the nice interpretation that it moves in the direction of\nclassifying x(t) correctly.\n\na. Show that $$y(t)w^{T}x(t)<0$$ (Hint: x(t) is misclassified by w(t)).\n\nb. Show that $$y(t)w^{T}(t+1)x(t)>y(t)w^{T}x(t)$$.\n\nc. As far as classifying $x(t)$ is concerned, argue that the move from $w(t)$ to $w(t+1)$ is a move in the right direction.",
      "metadata": {}
    },
    {
      "cell_type": "markdown",
      "source": "**Answers (written in Spanish)**",
      "metadata": {}
    },
    {
      "cell_type": "markdown",
      "source": "**a.**\n\nPara probar esto, podemos examinar la regla de actualización de pesos y ver cómo afecta la clasificación de x(t).\n\nLa regla de actualización de pesos se expresa como:\n\n$$w(t+1)=w(t)+y(t)*x(t)$$\n\nSupongamos que $x(t)$ está clasificado incorrectamente por $w(t)$, lo que significa que $$y(t)*w(t)*x(t)≤0.$$ \nEsto implica que la predicción actual de $y(t)$ es incorrecta.\n\nAhora, consideremos el vector de pesos actualizado $w(t+1)$ y su producto escalar con $x(t)$:\n\n\\begin{eqnarray}\nw(t+1) * x(t) &=& (w(t) + y(t) * x(t)) * x(t) \\nonumber \\\\\n&=& w(t) * x(t) + y(t) * x(t) * x(t) \\nonumber\n\\end{eqnarray}\n\nDado que $x(t)$ * $x(t)$ siempre es positivo, tenemos:\n\n$$w(t+1) * x(t) = w(t) * x(t) + y(t) * ||x(t)||^2$$\n\nSi nos enfocamos en el término $y(t) * ||x(t)||^2$, podemos ver que representa un factor de escala positivo de $x(t)$ basado en su norma al cuadrado. Este término afecta directamente la dirección de la actualización de pesos.\n\nSi $x(t)$ está clasificado incorrectamente por $w(t)$, lo que significa que $y(t)*w(t)*x(t)≤0$, entonces el término de actualización $y(t)*||x(t)||^2$ será positivo. Esto significa que el vector de pesos se moverá en la dirección de $x(t)$, intentando corregir la clasificación incorrecta.\n\nPor lo tanto, la regla de actualización de pesos en la Ecuación dada en el enunciado, efectivamente se mueve en la dirección de clasificar correctamente $x(t)$ cuando $x(t)$ está clasificado incorrectamente por $w(t)$, como se muestra arriba.\n\n",
      "metadata": {}
    },
    {
      "cell_type": "markdown",
      "source": "\n\n\n\n**b.**\n\n\\begin{eqnarray}\ny(t)w^T(t+1)x(t) &=& y(t) \\left(w(t)+y(t)x(t)\\right)^Tx(t) \\nonumber \\\\\n&=& y(t)\\left(w^T(t) + y(t)x^T(t)\\right)x(t) \\nonumber \\\\\n&=& y(t)w^T(t)x(t) + y(t)y(t)x^T(t)x(t) \\nonumber \\\\\n&\\gt& y(t)w^T(t)x(t) \\nonumber\n\\end{eqnarray}\nDebido a que su último término es mayor o igual que cero.",
      "metadata": {}
    },
    {
      "cell_type": "markdown",
      "source": "**c)** \n\n\ndel anterior punto podemos se puede observar que  $$y(t)w^T(t)x(t)$$ es creciente en cada actualización.\n\nSi $y(t)$ es positivo, pero $w^T(t)x(t)$ es negativo, nos podemos mover desde $w^T(t)x(t)$ hacia un valor positivo.\n\n\nSin embargo, como $y(t)$ es negativo, pero $w^T(t)x(t)$ es positivo, $y(t)w^T(t)x(t)$ es creciente, mientras que $w^T(t)x(t)$ es decreciente.\n\nEntonces si nos movemos desde $w(t)$ hacia $w(t+1)$, es un movimiento entendido \"en la dirección correcta\" mientras \npongamos foco en la clasificación de $x(t)$.",
      "metadata": {}
    },
    {
      "cell_type": "code",
      "source": "",
      "metadata": {},
      "execution_count": null,
      "outputs": []
    }
  ]
}