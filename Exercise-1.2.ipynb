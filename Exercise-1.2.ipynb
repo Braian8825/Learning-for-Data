{
  "metadata": {
    "language_info": {
      "codemirror_mode": {
        "name": "python",
        "version": 3
      },
      "file_extension": ".py",
      "mimetype": "text/x-python",
      "name": "python",
      "nbconvert_exporter": "python",
      "pygments_lexer": "ipython3",
      "version": "3.8"
    },
    "kernelspec": {
      "name": "python",
      "display_name": "Python (Pyodide)",
      "language": "python"
    }
  },
  "nbformat_minor": 4,
  "nbformat": 4,
  "cells": [
    {
      "cell_type": "markdown",
      "source": "Suppose that we use perceptron to detect spam messages. Let´s say that each email message is represented by the\nfrequency of ocurrence of the keywords, and the output is +1 if the message is considered spam. \n\n\na) Can you think of some keywords that will end up with a large positive weight in the perceptron?. \n\nb) How about keywords that will get negative weight? \n\nc) What parameter in the perceptron directly affects how many border-line messages end up being classified \n   as spam?",
      "metadata": {}
    },
    {
      "cell_type": "markdown",
      "source": "Answers (written in Spanish)",
      "metadata": {}
    },
    {
      "cell_type": "markdown",
      "source": "a) \nEn el contexto de detectar mensajes tipo spam usando un perceptron. algunas palabras o frases se puede configurar\ncon una ponderación más alta, las cuales indicarían con mayor probabilidad la ocurrencia de un mensaje spam. \nAlgunas palabras pueden ser: --\"Su cuenta bancaria fue bloqueada\" --\" Mensaje urgente de departamento de impuestos \nde su país\" --\" Viaje Gratis\" --\" Paquete enviado por Fedex no puede ser entregado\" -- \" Urgente\" -- \"Alerta\" -- \n\"Oferta de empleo\".",
      "metadata": {}
    },
    {
      "cell_type": "markdown",
      "source": "b) \nPor otro lado, palabras que se ponderarían con un peso negativo, harían referencia a un correo tipo No Spam. \nLas cuales podrían ser: -- \" Secure\" -- \" Legítimo\" -- \" Proyecto\" -- \" Universidad\".",
      "metadata": {}
    },
    {
      "cell_type": "markdown",
      "source": "       ",
      "metadata": {}
    },
    {
      "cell_type": "markdown",
      "source": "c) \nEl parámetro en el perceptrón que afecta directamente cuántos mensajes borderline terminan siendo clasificados \ncomo spam es el término de sesgo (bias). El sesgo actúa como un umbral o límite de decisión para la salida del \nperceptrón. Si el sesgo se establece en un valor negativo grande, más mensajes borderline serán clasificados como \nspam. Por el contrario, si el sesgo se establece en un valor positivo grande, menos mensajes borderline serán \nclasificados como spam. Al ajustar el sesgo, podemos controlar el equilibrio entre falsos positivos \n(clasificar no spam como spam) y falsos negativos (clasificar spam como no spam).",
      "metadata": {}
    },
    {
      "cell_type": "code",
      "source": "",
      "metadata": {},
      "execution_count": null,
      "outputs": []
    }
  ]
}