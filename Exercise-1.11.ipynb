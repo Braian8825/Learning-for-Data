{
  "metadata": {
    "language_info": {
      "codemirror_mode": {
        "name": "python",
        "version": 3
      },
      "file_extension": ".py",
      "mimetype": "text/x-python",
      "name": "python",
      "nbconvert_exporter": "python",
      "pygments_lexer": "ipython3",
      "version": "3.8"
    },
    "kernelspec": {
      "name": "python",
      "display_name": "Python (Pyodide)",
      "language": "python"
    }
  },
  "nbformat_minor": 4,
  "nbformat": 4,
  "cells": [
    {
      "cell_type": "markdown",
      "source": "**Exersice 11**\n\nWe are given a data set $D$ of 25 training examples from an unkown target function $f:x\\rightarrow y$, where \n$x=\\mathbb{R}$ and $y=\\{-1,+1\\}$. To learn $f$, we use a simple hypothesis set $\\mathbb{H}=\\{h_{1},h_{2}\\}$  \nwhere $h_{1}$ is the constant $+1$ function and $h_{2}$ is the constant $-1$.\n\nWe consider two learning algorithms, $S$ (smart) and $C$ (crazy). $S$ chooses the hypothesis that agrees the \nmost with $D$ and $C$ chooses the other hypothesis deliberately. Let us see how these algorithms perform out \nof sample from the deterministic and probabilistic points of view. Assume in the probabilistic view that there\nis a probability distribution on $x$, and let $\\mathbb{P}[f(x)=+1]=p$.\n\n**a.**\n\nCan $S$ produce a hypothesis that is guaanteed to perform better than random on any point outside $D$?\n\n**b.**\n\nAssume for the rest of the exercise that all the examples in $D$ have $y_{n}=+1$. Is it possible that the \nhypothesis that $C$ produces turns out to be better than the hypothesis that $S$ produces?\n\n**c.**\n\nIf $p=0,9$, what is the probability that $S$ will produce a better hypothesis than $C$?\n\n**d.**\n\nIs there any value of $p$ for which it is more likely than not that $C$ will produce a better hypothesis than S?\n",
      "metadata": {}
    },
    {
      "cell_type": "markdown",
      "source": "**Answers**",
      "metadata": {}
    },
    {
      "cell_type": "markdown",
      "source": "**a.**\n\nEn este ejercicio, tenemos un conjunto de datos $D$ con 25 ejemplos de entrenamiento, donde la función objetivo \nse denota como $f$ y mapea desde $x$ a $y$, donde $x$ es un espacio de características y $y$ es el conjunto \n${-1, +1}$. El conjunto de hipótesis consta de dos hipótesis: $h_{1}$, que es la función constante, y $h_{2}$, \nque es la constante $-1$.\n\nPara responder a esta pregunta, debemos entender el comportamiento del algoritmo $S$. El algoritmo $S$ \nselecciona la hipótesis que concuerda más con los datos de entrenamiento y elige deliberadamente la otra \nhipótesis.En este caso, dado que $h_{2}$ es la constante $-1$, siempre estará en desacuerdo con la función \nobjetivo $f$ en cualquier punto fuera de $D$ debido a que todos los ejemplos en $D$ tienen $Y_{n}=1$. \nPor lo tanto, $S$ no puede producir una hipótesis que tenga un mejor rendimiento que el azar en cualquier \npunto fuera de $D$.",
      "metadata": {}
    },
    {
      "cell_type": "markdown",
      "source": "**b.**\n\nEl algoritmo $C$ elige deliberadamente la hipótesis que está en desacuerdo con la función objetivo $f$ en mayor \nmedida. En este caso, la hipótesis elegida por $C$ será $h_{1}$, la función constante. Dado que todos los \nejemplos en $D$ tienen la característica de $Y_{n}=+1$, la hipótesis $h_{1}$ clasificará incorrectamente todos los ejemplos.\n\nPor lo tanto, en este escenario específico, la hipótesis producida por $C$ no será mejor que la hipótesis \nproducida por $S$, que es la constante $-1$.",
      "metadata": {}
    },
    {
      "cell_type": "markdown",
      "source": "**c.**\n\nEn la visión probabilística, asumimos que hay una distribución de probabilidad en $X$, y se cumple que \n$P[f(x)=1]=p$. En este caso, $p=0.9$, lo que significa que la probabilidad de que la función objetivo $f(x)$ \nsea $1$ es $0.9$.\n\nPara encontrar la probabilidad de que $S$ produzca una hipótesis mejor que $C$, debemos considerar los casos en \nlos que $S$ elige $h_{2}$ y $C$ elige $h_{1}$. Dado que $h_{2}$ es la constante $-1$, funcionará mejor que \n$h_{1}$ (que clasifica incorrectamente todos los ejemplos) si $f(x)=-1$.\n\nLa probabilidad de que $S$ elija $h_{2}$ se denota como $P[f(x)=-1]$ y es igual a \n\n\\begin{eqnarray}\nP[f(x)=-1]&=&1-P[f(x)=1] \\nonumber \\\\\n&=&1-p \\nonumber \\\\\n&=&1-0.9\\nonumber \\\\\n&=&0.1. \\nonumber\n\\end{eqnarray}\n\nPor lo tanto, la probabilidad de que $S$ produzca una hipótesis mejor que $C$ es $0.1$.",
      "metadata": {}
    },
    {
      "cell_type": "markdown",
      "source": "**d.**\n\nPara determinar si existe algún valor de $p$ para el cual sea más probable que $C$ produzca una hipótesis mejor que $S$, debemos comparar las probabilidades de que $S$ elija a $h_{2}$ y $C$ elija a $h_{1}$.\n\n$S$ elige a $h_{2}$ con una probabilidad de $1-p$, y $C$ elige a $h_{1}$ con una probabilidad de $p$.\n\nPara que $C$ produzca una hipótesis mejor que $S$, necesitamos que la probabilidad de que $C$ elija a $h_{1}$ \nsea mayor que la probabilidad de que $S$ elija a $h_{2}$.\n\nDe forma matemática, queremos que $p>1-p$.\n\nResolviendo esta desigualdad, se obtiene que $2p>1$ o, que es lo mismo, $p>0,5$. Por lo tanto, si la probabilidad $p$ es mayor que $0,5$, es más probable que $C$ produzca una hipótesis mejor que $S$.\n",
      "metadata": {}
    },
    {
      "cell_type": "code",
      "source": "",
      "metadata": {},
      "execution_count": null,
      "outputs": []
    }
  ]
}