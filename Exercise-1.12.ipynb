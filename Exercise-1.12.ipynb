{
  "metadata": {
    "language_info": {
      "codemirror_mode": {
        "name": "python",
        "version": 3
      },
      "file_extension": ".py",
      "mimetype": "text/x-python",
      "name": "python",
      "nbconvert_exporter": "python",
      "pygments_lexer": "ipython3",
      "version": "3.8"
    },
    "kernelspec": {
      "name": "python",
      "display_name": "Python (Pyodide)",
      "language": "python"
    }
  },
  "nbformat_minor": 4,
  "nbformat": 4,
  "cells": [
    {
      "cell_type": "markdown",
      "source": "**Exercise 12**\n\nA friend comes to you with a learning problem. She says the target function $f$ is completely unknoun, but she has \n$4000$ data points. She is willing to pay you to solve her problem and produce for her a $g$ which approximates $f$.\nWhat is the best that you can promise her among the following:\n\n**a.**\n\nAfter learning you will provide her with a $g$ that you will guarantee approximates $f$ well out of sample.\n    \n**b.**\n    \nAfter learning you will provide her with a $g$, and with high probability the $g$ which you produce will approximate\n$f$ well out off sample.\n    \n**c.**\n    \nOne of two things will happen: i. You will produce a hypothesis $g$ or ii. You will declare that you failed. If you do return a hypothesis $g$, then with high probability the $g$ which you producewill approximate $f$ well \nout off sample",
      "metadata": {}
    },
    {
      "cell_type": "markdown",
      "source": "**Answers**",
      "metadata": {}
    },
    {
      "cell_type": "markdown",
      "source": "**a.**\n\nGarantizar que la g proporcionada aproxime bien fuera de la muestra es una afirmación fuerte. Sin embargo, sin ninguna información sobre la función objetivo f, no es posible hacer tal garantía. Por lo tanto, esta opción no es factible.",
      "metadata": {}
    },
    {
      "cell_type": "markdown",
      "source": "**b.**\n\nPrometer que con alta probabilidad la $g$ producida aproximará bien fuera de la muestra es más realista. Mediante el uso de un algoritmo de aprendizaje, se puede aspirar a encontrar una hipótesis $g$ que generalice bien a datos no vistos. Esta opción proporciona un nivel razonable de confianza en el rendimiento de $g$.\n",
      "metadata": {}
    },
    {
      "cell_type": "markdown",
      "source": "**c.**\n\nEsta opción reconoce la posibilidad de fracaso. Si se declara que existe fallo fracasado, significa que no se pudo encontrar una hipótesis $g$ que aproxime bien fuera de la muestra. Sin embargo, si se encuentra  una hipótesis $g$, entonces con alta probabilidad, aproximará bien fuera de la muestra. Esta opción ofrece una red de seguridad mientras sigue ofreciendo una buena oportunidad de éxito.",
      "metadata": {}
    },
    {
      "cell_type": "markdown",
      "source": "**Resultado final**\n\nConsiderando las opciones dadas, la opción a sugerir es la **c**. Hay que notar que ocurrirá una de dos cosas: o bien se llegará a una hipótesis $g$, o se concluirá que se ha fracasado. Si se proporciona una hipótesis $g$, entonces con alta probabilidad, aproximará bien fuera de la muestra. Este enfoque ofrece una evaluación realista de la situación mientras mantiene una buena posibilidad de éxito.",
      "metadata": {}
    },
    {
      "cell_type": "code",
      "source": "",
      "metadata": {},
      "execution_count": null,
      "outputs": []
    }
  ]
}